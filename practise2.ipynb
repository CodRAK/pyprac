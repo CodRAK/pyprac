{
 "cells": [
  {
   "cell_type": "markdown",
   "metadata": {},
   "source": [
    "## 1.1 myreduce() function"
   ]
  },
  {
   "cell_type": "code",
   "execution_count": 81,
   "metadata": {},
   "outputs": [
    {
     "data": {
      "text/plain": [
       "6.944444444444444e-05"
      ]
     },
     "execution_count": 81,
     "metadata": {},
     "output_type": "execute_result"
    }
   ],
   "source": [
    "def myReduce(function, sequence) :\n",
    "    sum = sequence[0]\n",
    "    for i in sequence:\n",
    "        sum = function(sum, i)\n",
    "    return sum\n",
    "\n",
    "l = [1,2,3,4,4,5,5,6]\n",
    "myReduce(lambda x,y: x/y, l)"
   ]
  },
  {
   "cell_type": "markdown",
   "metadata": {},
   "source": [
    "## 1.2 myFilter() function"
   ]
  },
  {
   "cell_type": "code",
   "execution_count": 86,
   "metadata": {},
   "outputs": [
    {
     "name": "stdout",
     "output_type": "stream",
     "text": [
      "False\n",
      "True\n",
      "False\n",
      "True\n",
      "True\n",
      "False\n",
      "False\n",
      "True\n"
     ]
    }
   ],
   "source": [
    "def myFilter(function, sequence):\n",
    "    for i in sequence:\n",
    "        yield function(i)\n",
    "        \n",
    "for i in myFilter(lambda x: x%2 == 0, [1,2,3,4,4,5,5,6]):\n",
    "    print(i)"
   ]
  },
  {
   "cell_type": "markdown",
   "metadata": {},
   "source": [
    "## 1.3 List Comprehension Function"
   ]
  },
  {
   "cell_type": "code",
   "execution_count": 116,
   "metadata": {},
   "outputs": [
    {
     "name": "stdout",
     "output_type": "stream",
     "text": [
      "['A', 'C', 'A', 'D', 'G', 'I', 'L', 'D']\n",
      "['x', 'xx', 'xxx', 'xxxx', 'y', 'yy', 'yyy', 'yyyy', 'z', 'zz', 'zzz', 'zzzz']\n",
      "['x', 'y', 'z', 'xx', 'yy', 'zz', 'xxx', 'yyy', 'zzz', 'xxxx', 'yyyy', 'zzzz']\n",
      "[[2], [3], [4], [3], [4], [5], [4], [5], [6]]\n",
      "[[2, 3, 4, 5], [3, 4, 5, 6], [4, 5, 6, 7], [5, 6, 7, 8]]\n",
      "[(1, 1), (2, 1), (3, 1), (1, 2), (2, 2), (3, 2), (1, 3), (2, 3), (3, 3)]\n"
     ]
    }
   ],
   "source": [
    "a = [chr(ord('A')+i) for i in [0,2,0,3]] + [chr(ord('G')+i) for i in [0,2,5]] + ['D']\n",
    "print(a)\n",
    "b = [x*i for x in ['x','y','z'] for i in range(1,5)]\n",
    "print(b)\n",
    "c = [x*i for i in range(1,5) for x in ['x','y','z']]\n",
    "print(c)\n",
    "d = [[x+i] for i in range(1,4) for x in [1,2,3]]\n",
    "print(d)\n",
    "e = [[x+i for x in [1,2,3,4]] for i in range(1,5)]\n",
    "print(e)\n",
    "f = [(i,j) for j in [1,2,3] for i in [1,2,3]]\n",
    "print(f)"
   ]
  },
  {
   "cell_type": "markdown",
   "metadata": {},
   "source": [
    "## 1.4 longestWord() Function"
   ]
  },
  {
   "cell_type": "code",
   "execution_count": 41,
   "metadata": {},
   "outputs": [
    {
     "data": {
      "text/plain": [
       "'chetanya'"
      ]
     },
     "execution_count": 41,
     "metadata": {},
     "output_type": "execute_result"
    }
   ],
   "source": [
    "def longestWord(l):\n",
    "    if type(l) != list :\n",
    "        return none\n",
    "    retVal = \"\"\n",
    "    for i in l:\n",
    "        if (len(i) > len(retVal)):\n",
    "            retVal = i\n",
    "    return retVal\n",
    "\n",
    "longestWord(['aseem', 'kapoor', 'bal', 'chetanya'])"
   ]
  },
  {
   "cell_type": "markdown",
   "metadata": {},
   "source": [
    "## 2.1 Class structure for Triange Area"
   ]
  },
  {
   "cell_type": "code",
   "execution_count": 62,
   "metadata": {},
   "outputs": [],
   "source": [
    "class ThreeSides:\n",
    "    def __init__(self, a, b, c):\n",
    "        self.a = a\n",
    "        self.b = b\n",
    "        self.c = c\n",
    "\n",
    "class Triangle(ThreeSides):\n",
    "    def area(self):\n",
    "        s = (self.a+self.b+self.c)/2\n",
    "        ar = (s*(s-self.a)*(s-self.b)*(s-self.c)) ** 0.5\n",
    "        return ar"
   ]
  },
  {
   "cell_type": "code",
   "execution_count": 63,
   "metadata": {},
   "outputs": [
    {
     "data": {
      "text/plain": [
       "14.696938456699069"
      ]
     },
     "execution_count": 63,
     "metadata": {},
     "output_type": "execute_result"
    }
   ],
   "source": [
    "Triangle(5,6,7).area()"
   ]
  },
  {
   "cell_type": "markdown",
   "metadata": {},
   "source": [
    "## 2.2 Filter Long Words"
   ]
  },
  {
   "cell_type": "code",
   "execution_count": 73,
   "metadata": {},
   "outputs": [
    {
     "data": {
      "text/plain": [
       "['owhgwogihw', 'ewotitwoit', 'oirtrtrutrt', 'erwewoirtrtrutrt', '0000pot0etij']"
      ]
     },
     "execution_count": 73,
     "metadata": {},
     "output_type": "execute_result"
    }
   ],
   "source": [
    "def filter_long_words(l,n):\n",
    "    if type(l) != list or type(n) != int:\n",
    "        return none\n",
    "    return list(filter(lambda x: len(x) > n, l))\n",
    "\n",
    "l = ['abcasf', 'owhgwogihw', 'ewotitwoit', 'oirtrtrutrt', 'pot0etij','erwewoirtrtrutrt', '0000pot0etij']\n",
    "filter_long_words(l, 8)"
   ]
  },
  {
   "cell_type": "markdown",
   "metadata": {},
   "source": [
    "## 2.3 Map List of string to map of length"
   ]
  },
  {
   "cell_type": "code",
   "execution_count": 74,
   "metadata": {},
   "outputs": [
    {
     "data": {
      "text/plain": [
       "[6, 10, 10, 11, 8]"
      ]
     },
     "execution_count": 74,
     "metadata": {},
     "output_type": "execute_result"
    }
   ],
   "source": [
    "def map_string_to_length(l):\n",
    "    return list(map(lambda x: len(x), l))\n",
    "\n",
    "l = ['abcasf', 'owhgwogihw', 'ewotitwoit', 'oirtrtrutrt', 'pot0etij']\n",
    "map_string_to_length(l)"
   ]
  },
  {
   "cell_type": "markdown",
   "metadata": {},
   "source": [
    "## 2.4 Check Vowel"
   ]
  },
  {
   "cell_type": "code",
   "execution_count": 80,
   "metadata": {},
   "outputs": [
    {
     "data": {
      "text/plain": [
       "True"
      ]
     },
     "execution_count": 80,
     "metadata": {},
     "output_type": "execute_result"
    }
   ],
   "source": [
    "def isVowel(ch):\n",
    "    if type(ch) != str or len(ch) > 1:\n",
    "        return none\n",
    "    s = 'aeiou'\n",
    "    if s.find(ch) >= 0:\n",
    "        return True\n",
    "    else:\n",
    "        return False\n",
    "    \n",
    "isVowel('e')"
   ]
  },
  {
   "cell_type": "markdown",
   "metadata": {},
   "source": [
    "# Snapshots"
   ]
  },
  {
   "cell_type": "raw",
   "metadata": {},
   "source": []
  }
 ],
 "metadata": {
  "kernelspec": {
   "display_name": "Python 3",
   "language": "python",
   "name": "python3"
  },
  "language_info": {
   "codemirror_mode": {
    "name": "ipython",
    "version": 3
   },
   "file_extension": ".py",
   "mimetype": "text/x-python",
   "name": "python",
   "nbconvert_exporter": "python",
   "pygments_lexer": "ipython3",
   "version": "3.7.6"
  }
 },
 "nbformat": 4,
 "nbformat_minor": 4
}
