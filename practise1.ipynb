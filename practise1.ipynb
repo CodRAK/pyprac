{
 "cells": [
  {
   "cell_type": "markdown",
   "metadata": {},
   "source": [
    "# 1.1 Jupyter Notebook"
   ]
  },
  {
   "cell_type": "markdown",
   "metadata": {},
   "source": [
    "# 1.2 Numbers between 2000-3200 div by 7 not by 5"
   ]
  },
  {
   "cell_type": "code",
   "execution_count": 78,
   "metadata": {},
   "outputs": [
    {
     "name": "stdout",
     "output_type": "stream",
     "text": [
      "2002,2009,2016,2023,2037,2044,2051,2058,2072,2079,2086,2093,2107,2114,2121,2128,2142,2149,2156,2163,2177,2184,2191,2198,2212,2219,2226,2233,2247,2254,2261,2268,2282,2289,2296,2303,2317,2324,2331,2338,2352,2359,2366,2373,2387,2394,2401,2408,2422,2429,2436,2443,2457,2464,2471,2478,2492,2499,2506,2513,2527,2534,2541,2548,2562,2569,2576,2583,2597,2604,2611,2618,2632,2639,2646,2653,2667,2674,2681,2688,2702,2709,2716,2723,2737,2744,2751,2758,2772,2779,2786,2793,2807,2814,2821,2828,2842,2849,2856,2863,2877,2884,2891,2898,2912,2919,2926,2933,2947,2954,2961,2968,2982,2989,2996,3003,3017,3024,3031,3038,3052,3059,3066,3073,3087,3094,3101,3108,3122,3129,3136,3143,3157,3164,3171,3178,3192,3199\n"
     ]
    }
   ],
   "source": [
    "x = range(2000, 3201)\n",
    "st = str()\n",
    "for i in x:\n",
    "    if i % 7 == 0 and i % 5 != 0:\n",
    "        st = st + str(i) + ','\n",
    "st = st[0:-1]\n",
    "print(st)"
   ]
  },
  {
   "cell_type": "markdown",
   "metadata": {},
   "source": [
    "# 1.3 Reverse First and Last name"
   ]
  },
  {
   "cell_type": "code",
   "execution_count": 79,
   "metadata": {},
   "outputs": [
    {
     "name": "stdout",
     "output_type": "stream",
     "text": [
      "Please enter first and last name: Zorawar Khan\n",
      "Khan Zorawar\n"
     ]
    }
   ],
   "source": [
    "st = input(\"Please enter first and last name: \")\n",
    "x = st.split()\n",
    "a = x[1] + ' ' + x[0]\n",
    "print(a)"
   ]
  },
  {
   "cell_type": "markdown",
   "metadata": {},
   "source": [
    "# 1.4 Volume of sphere"
   ]
  },
  {
   "cell_type": "code",
   "execution_count": 80,
   "metadata": {},
   "outputs": [
    {
     "data": {
      "text/plain": [
       "904.3199999999999"
      ]
     },
     "execution_count": 80,
     "metadata": {},
     "output_type": "execute_result"
    }
   ],
   "source": [
    "dia = 12.0\n",
    "v = 3.14 * (4 / 3) * pow(dia/2, 3)\n",
    "v"
   ]
  },
  {
   "cell_type": "markdown",
   "metadata": {},
   "source": [
    "# 2.1 Generate List from comma separated numbers\n"
   ]
  },
  {
   "cell_type": "code",
   "execution_count": 81,
   "metadata": {},
   "outputs": [
    {
     "name": "stdout",
     "output_type": "stream",
     "text": [
      "Enter comma separated numbers : 1, 5, 55, 565, 66\n",
      "[1, 5, 55, 565, 66]\n"
     ]
    }
   ],
   "source": [
    "st = input(\"Enter comma separated numbers : \")\n",
    "x = st.split(',')\n",
    "y = []\n",
    "for i in x :\n",
    "    y.append(int(i))\n",
    "print(y)"
   ]
  },
  {
   "cell_type": "markdown",
   "metadata": {},
   "source": [
    "# 2.2 Print a pattern"
   ]
  },
  {
   "cell_type": "code",
   "execution_count": 82,
   "metadata": {},
   "outputs": [
    {
     "name": "stdout",
     "output_type": "stream",
     "text": [
      "*\n",
      "**\n",
      "***\n",
      "****\n",
      "*****\n",
      "****\n",
      "***\n",
      "**\n",
      "*\n"
     ]
    }
   ],
   "source": [
    "k = 6\n",
    "x = range(1,k)\n",
    "for i in x :\n",
    "    print('*' * i)\n",
    "x = range(k-2,0, -1)\n",
    "for i in x :\n",
    "    print('*' * i)"
   ]
  },
  {
   "cell_type": "markdown",
   "metadata": {},
   "source": [
    "# 2.3 Reverse word"
   ]
  },
  {
   "cell_type": "code",
   "execution_count": 83,
   "metadata": {},
   "outputs": [
    {
     "name": "stdout",
     "output_type": "stream",
     "text": [
      "Enter a word to reverse: ahsdfIUET hgaba Xasdf08a9dfas\n",
      "safd9a80fdsaX abagh TEUIfdsha\n"
     ]
    }
   ],
   "source": [
    "x = input(\"Enter a word to reverse: \")\n",
    "x = x[::-1]\n",
    "print(x)"
   ]
  },
  {
   "cell_type": "markdown",
   "metadata": {},
   "source": [
    "# 2.4 Print in a format"
   ]
  },
  {
   "cell_type": "code",
   "execution_count": 84,
   "metadata": {},
   "outputs": [
    {
     "name": "stdout",
     "output_type": "stream",
     "text": [
      "WE, THE PEOPLE OF INDIA, \n",
      "        having solemnly resolved to constitute India into a SOVEREIGN, !\n",
      "                SOCIALIST, SECULAR, DEMOCRATIC REPUBLIC\n",
      "                 and to secure to all its citizen\n"
     ]
    }
   ],
   "source": [
    "x = \"\"\"WE, THE PEOPLE OF INDIA, having solemnly resolved to constitute India into a SOVEREIGN, SOCIALIST, SECULAR, DEMOCRATIC REPUBLIC and to secure to all its citizens\"\"\"\n",
    "spliter = ['INDIA, ', 'SOVEREIGN, ', 'REPUBLIC']\n",
    "lis = []\n",
    "i = 0\n",
    "st = 0\n",
    "while(i < len(spliter)) :\n",
    "    end = x.find(spliter[i])+len(spliter[i])\n",
    "    lis.append(x[st:end])\n",
    "    st = end\n",
    "    i += 1\n",
    "lis.append(x[st:-1])\n",
    "lis[1] = '\\t' + lis[1] + '!'\n",
    "lis[2] = '\\t\\t' + lis[2]\n",
    "lis[3] = '\\t\\t' + lis[3]\n",
    "for i in lis :\n",
    "    print(i.expandtabs())"
   ]
  },
  {
   "cell_type": "code",
   "execution_count": null,
   "metadata": {},
   "outputs": [],
   "source": []
  }
 ],
 "metadata": {
  "kernelspec": {
   "display_name": "Python 3",
   "language": "python",
   "name": "python3"
  },
  "language_info": {
   "codemirror_mode": {
    "name": "ipython",
    "version": 3
   },
   "file_extension": ".py",
   "mimetype": "text/x-python",
   "name": "python",
   "nbconvert_exporter": "python",
   "pygments_lexer": "ipython3",
   "version": "3.7.6"
  }
 },
 "nbformat": 4,
 "nbformat_minor": 4
}
